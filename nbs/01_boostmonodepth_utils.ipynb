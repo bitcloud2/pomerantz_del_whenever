{
 "cells": [
  {
   "cell_type": "code",
   "execution_count": 1,
   "metadata": {},
   "outputs": [],
   "source": [
    "# default_exp boostmonodepth_utils"
   ]
  },
  {
   "cell_type": "markdown",
   "metadata": {},
   "source": [
    "# boostmonodepth_utils\n",
    "\n",
    "> This is how it is originally done. Clean it up with future modules."
   ]
  },
  {
   "cell_type": "code",
   "execution_count": 11,
   "metadata": {},
   "outputs": [],
   "source": [
    "#hide\n",
    "from nbdev.showdoc import *\n",
    "\n",
    "%load_ext autoreload\n",
    "%autoreload 2"
   ]
  },
  {
   "cell_type": "code",
   "execution_count": 1,
   "metadata": {},
   "outputs": [
    {
     "ename": "ModuleNotFoundError",
     "evalue": "No module named 'vispy'",
     "output_type": "error",
     "traceback": [
      "\u001b[0;31m---------------------------------------------------------------------------\u001b[0m",
      "\u001b[0;31mModuleNotFoundError\u001b[0m                       Traceback (most recent call last)",
      "\u001b[0;32m<ipython-input-1-4bac69728758>\u001b[0m in \u001b[0;36m<module>\u001b[0;34m\u001b[0m\n\u001b[1;32m      5\u001b[0m \u001b[0;32mimport\u001b[0m \u001b[0mos\u001b[0m\u001b[0;34m\u001b[0m\u001b[0;34m\u001b[0m\u001b[0m\n\u001b[1;32m      6\u001b[0m \u001b[0;32mfrom\u001b[0m \u001b[0mfunctools\u001b[0m \u001b[0;32mimport\u001b[0m \u001b[0mpartial\u001b[0m\u001b[0;34m\u001b[0m\u001b[0;34m\u001b[0m\u001b[0m\n\u001b[0;32m----> 7\u001b[0;31m \u001b[0;32mimport\u001b[0m \u001b[0mvispy\u001b[0m\u001b[0;34m\u001b[0m\u001b[0;34m\u001b[0m\u001b[0m\n\u001b[0m\u001b[1;32m      8\u001b[0m \u001b[0;32mimport\u001b[0m \u001b[0mscipy\u001b[0m\u001b[0;34m.\u001b[0m\u001b[0mmisc\u001b[0m \u001b[0;32mas\u001b[0m \u001b[0mmisc\u001b[0m\u001b[0;34m\u001b[0m\u001b[0;34m\u001b[0m\u001b[0m\n\u001b[1;32m      9\u001b[0m \u001b[0;32mfrom\u001b[0m \u001b[0mtqdm\u001b[0m \u001b[0;32mimport\u001b[0m \u001b[0mtqdm\u001b[0m\u001b[0;34m\u001b[0m\u001b[0;34m\u001b[0m\u001b[0m\n",
      "\u001b[0;31mModuleNotFoundError\u001b[0m: No module named 'vispy'"
     ]
    }
   ],
   "source": [
    "# Original Code https://github.com/vt-vl-lab/3d-photo-inpainting\n",
    "# Original Huggingface Space Code from https://huggingface.co/spaces/Epoching/3D_Photo_Inpainting/tree/main\n",
    "\n",
    "# boostmonodepth_utils.py\n",
    "import os\n",
    "import cv2\n",
    "import glob\n",
    "import numpy as np\n",
    "import imageio\n",
    "from MiDaS.MiDaS_utils import write_depth\n",
    "\n",
    "BOOST_BASE = 'BoostingMonocularDepth'\n",
    "\n",
    "BOOST_INPUTS = 'inputs'\n",
    "BOOST_OUTPUTS = 'outputs'\n",
    "\n",
    "def run_boostmonodepth(img_names, src_folder, depth_folder):\n",
    "\n",
    "    if not isinstance(img_names, list):\n",
    "        img_names = [img_names]\n",
    "\n",
    "    # remove irrelevant files first\n",
    "    clean_folder(os.path.join(BOOST_BASE, BOOST_INPUTS))\n",
    "    clean_folder(os.path.join(BOOST_BASE, BOOST_OUTPUTS))\n",
    "\n",
    "    tgt_names = []\n",
    "    for img_name in img_names:\n",
    "        base_name = os.path.basename(img_name)\n",
    "        tgt_name = os.path.join(BOOST_BASE, BOOST_INPUTS, base_name)\n",
    "        os.system(f'cp {img_name} {tgt_name}')\n",
    "\n",
    "        # keep only the file name here.\n",
    "        # they save all depth as .png file\n",
    "        tgt_names.append(os.path.basename(tgt_name).replace('.jpg', '.png'))\n",
    "\n",
    "    os.system(f'cd {BOOST_BASE} && python run.py --Final --data_dir {BOOST_INPUTS}/  --output_dir {BOOST_OUTPUTS} --depthNet 0')\n",
    "\n",
    "    for i, (img_name, tgt_name) in enumerate(zip(img_names, tgt_names)):\n",
    "        img = imageio.imread(img_name)\n",
    "        H, W = img.shape[:2]\n",
    "        scale = 640. / max(H, W)\n",
    "\n",
    "        # resize and save depth\n",
    "        target_height, target_width = int(round(H * scale)), int(round(W * scale))\n",
    "        depth = imageio.imread(os.path.join(BOOST_BASE, BOOST_OUTPUTS, tgt_name))\n",
    "        depth = np.array(depth).astype(np.float32)\n",
    "        depth = resize_depth(depth, target_width, target_height)\n",
    "        np.save(os.path.join(depth_folder, tgt_name.replace('.png', '.npy')), depth / 32768. - 1.)\n",
    "        write_depth(os.path.join(depth_folder, tgt_name.replace('.png', '')), depth)\n",
    "\n",
    "def clean_folder(folder, img_exts=['.png', '.jpg', '.npy']):\n",
    "\n",
    "    for img_ext in img_exts:\n",
    "        paths_to_check = os.path.join(folder, f'*{img_ext}')\n",
    "        if len(glob.glob(paths_to_check)) == 0:\n",
    "            continue\n",
    "        print(paths_to_check)\n",
    "        os.system(f'rm {paths_to_check}')\n",
    "\n",
    "def resize_depth(depth, width, height):\n",
    "    \"\"\"Resize numpy (or image read by imageio) depth map\n",
    "    Args:\n",
    "        depth (numpy): depth\n",
    "        width (int): image width\n",
    "        height (int): image height\n",
    "    Returns:\n",
    "        array: processed depth\n",
    "    \"\"\"\n",
    "    depth = cv2.blur(depth, (3, 3))\n",
    "    return cv2.resize(depth, (width, height), interpolation=cv2.INTER_AREA)\n",
    "\n"
   ]
  },
  {
   "cell_type": "code",
   "execution_count": null,
   "metadata": {},
   "outputs": [],
   "source": []
  },
  {
   "cell_type": "code",
   "execution_count": null,
   "metadata": {},
   "outputs": [],
   "source": []
  },
  {
   "cell_type": "code",
   "execution_count": null,
   "metadata": {},
   "outputs": [],
   "source": []
  },
  {
   "cell_type": "code",
   "execution_count": null,
   "metadata": {},
   "outputs": [],
   "source": []
  },
  {
   "cell_type": "code",
   "execution_count": 8,
   "metadata": {},
   "outputs": [],
   "source": [
    "#export\n",
    "def say_hello(to):\n",
    "    \"Say hello to somebody\"\n",
    "    return f'Hello {to}!'"
   ]
  },
  {
   "cell_type": "markdown",
   "metadata": {},
   "source": [
    "## Documentation Example"
   ]
  },
  {
   "cell_type": "code",
   "execution_count": 10,
   "metadata": {},
   "outputs": [
    {
     "data": {
      "text/plain": [
       "'Hello Jeffrey!'"
      ]
     },
     "execution_count": 10,
     "metadata": {},
     "output_type": "execute_result"
    }
   ],
   "source": [
    "say_hello(\"Jeffrey\")"
   ]
  },
  {
   "cell_type": "markdown",
   "metadata": {},
   "source": [
    "## Tests Example"
   ]
  },
  {
   "cell_type": "code",
   "execution_count": 11,
   "metadata": {},
   "outputs": [],
   "source": [
    "assert say_hello(\"Jeffrey\") == \"Hello Jeffrey!\""
   ]
  },
  {
   "cell_type": "markdown",
   "metadata": {},
   "source": [
    "## Documenting ec2/docker startup"
   ]
  },
  {
   "cell_type": "markdown",
   "metadata": {},
   "source": [
    "pip install nbdev\n",
    "\n",
    "nbdev_install_git_hooks\n",
    "\n",
    "cd pomerantz\n",
    "\n",
    "nbdev_build_lib"
   ]
  },
  {
   "cell_type": "code",
   "execution_count": 2,
   "metadata": {},
   "outputs": [],
   "source": [
    "#export\n",
    "class HelloSayer:\n",
    "    \"Say hello to `to` using `say_hello`\"\n",
    "    def __init__(self, to): self.to = to\n",
    "\n",
    "    def say(self):\n",
    "        \"Do the saying\"\n",
    "        return say_hello(self.to)"
   ]
  },
  {
   "cell_type": "code",
   "execution_count": 5,
   "metadata": {},
   "outputs": [
    {
     "data": {
      "text/markdown": [
       "<h4 id=\"HelloSayer.say\" class=\"doc_header\"><code>HelloSayer.say</code><a href=\"__main__.py#L6\" class=\"source_link\" style=\"float:right\">[source]</a></h4>\n",
       "\n",
       "> <code>HelloSayer.say</code>()\n",
       "\n",
       "Do the saying"
      ],
      "text/plain": [
       "<IPython.core.display.Markdown object>"
      ]
     },
     "metadata": {},
     "output_type": "display_data"
    }
   ],
   "source": [
    "show_doc(HelloSayer.say)"
   ]
  },
  {
   "cell_type": "code",
   "execution_count": 9,
   "metadata": {},
   "outputs": [
    {
     "data": {
      "text/plain": [
       "'Hello Jeffrey!'"
      ]
     },
     "execution_count": 9,
     "metadata": {},
     "output_type": "execute_result"
    }
   ],
   "source": [
    "o = HelloSayer(\"Jeffrey\")\n",
    "o.say()"
   ]
  },
  {
   "cell_type": "code",
   "execution_count": 10,
   "metadata": {},
   "outputs": [],
   "source": [
    "assert o.say() == \"Hello Jeffrey!\""
   ]
  },
  {
   "cell_type": "code",
   "execution_count": null,
   "metadata": {},
   "outputs": [],
   "source": []
  },
  {
   "cell_type": "code",
   "execution_count": 13,
   "metadata": {},
   "outputs": [
    {
     "name": "stdout",
     "output_type": "stream",
     "text": [
      "Converted 00_core.ipynb.\n",
      "Converted index.ipynb.\n"
     ]
    }
   ],
   "source": [
    "# Export modules directly from notebook\n",
    "from nbdev.export import notebook2script; notebook2script()"
   ]
  },
  {
   "cell_type": "code",
   "execution_count": null,
   "metadata": {},
   "outputs": [],
   "source": []
  }
 ],
 "metadata": {
  "kernelspec": {
   "display_name": "Python 3",
   "language": "python",
   "name": "python3"
  },
  "language_info": {
   "codemirror_mode": {
    "name": "ipython",
    "version": 3
   },
   "file_extension": ".py",
   "mimetype": "text/x-python",
   "name": "python",
   "nbconvert_exporter": "python",
   "pygments_lexer": "ipython3",
   "version": "3.8.10"
  }
 },
 "nbformat": 4,
 "nbformat_minor": 4
}
